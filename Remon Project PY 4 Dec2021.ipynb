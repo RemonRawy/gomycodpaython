{
 "cells": [
  {
   "cell_type": "code",
   "execution_count": 40,
   "id": "630fb5f5",
   "metadata": {
    "scrolled": true
   },
   "outputs": [
    {
     "name": "stdout",
     "output_type": "stream",
     "text": [
      "nomeR ywaR\n"
     ]
    }
   ],
   "source": [
    "frist_Name=\"Remon\"[::-1]\n",
    "last_Name=\"Rawy\"[::-1]\n",
    "\n",
    "print(frist_Name + \" \" + last_Name)"
   ]
  },
  {
   "cell_type": "code",
   "execution_count": 51,
   "id": "267ad6db",
   "metadata": {},
   "outputs": [
    {
     "name": "stdout",
     "output_type": "stream",
     "text": [
      "615\n"
     ]
    }
   ],
   "source": [
    "n = 5\n",
    "print(n + (n * 11) + (n * 111))"
   ]
  },
  {
   "cell_type": "code",
   "execution_count": 12,
   "id": "c7accb84",
   "metadata": {},
   "outputs": [
    {
     "name": "stdout",
     "output_type": "stream",
     "text": [
      "insert a number8\n",
      "say hello to this even\n"
     ]
    }
   ],
   "source": [
    "num=int(input(\"insert a number\"))\n",
    "mod= num %2\n",
    "\n",
    "if mod > 0:\n",
    "    print (\"Welcome to the odd world\")\n",
    "    \n",
    "else:\n",
    "    print(\"say hello to this even\")\n"
   ]
  },
  {
   "cell_type": "code",
   "execution_count": 19,
   "id": "7233ac0d",
   "metadata": {},
   "outputs": [
    {
     "name": "stdout",
     "output_type": "stream",
     "text": [
      "2030,2065,2100,2135,2170,2205,2240,2275,2310,2345,2380,2415,2450,2485,2520,2555,2590,2625,2660,2695,2730,2765,2800,2835,2870,2905,2940,2975,3010,3045,3080,3115,3150,3185\n"
     ]
    }
   ],
   "source": [
    "nl=[]\n",
    "for x in range(2000, 3200):\n",
    "    if (x%7==0) and (x%5==0):\n",
    "        nl.append(str(x))\n",
    "print (','.join(nl))"
   ]
  },
  {
   "cell_type": "code",
   "execution_count": 5,
   "id": "81459311",
   "metadata": {},
   "outputs": [
    {
     "name": "stdout",
     "output_type": "stream",
     "text": [
      "Input a number to compute the factiorial : 8\n",
      "40320\n"
     ]
    }
   ],
   "source": [
    "def factorial(n):\n",
    "    if n == 0:\n",
    "        return 1\n",
    "    else:\n",
    "        return n * factorial(n-1)\n",
    "n=int(input(\"Input a number to compute the factiorial : \"))\n",
    "print(factorial(n))"
   ]
  },
  {
   "cell_type": "code",
   "execution_count": 45,
   "id": "719c5d07",
   "metadata": {
    "scrolled": true
   },
   "outputs": [
    {
     "name": "stdout",
     "output_type": "stream",
     "text": [
      "enter a string\n",
      "Nonehello team\n",
      "h\n",
      "l\n",
      "o\n",
      "t\n",
      "a\n"
     ]
    }
   ],
   "source": [
    "n=str(input(print(\"enter a string\")))\n",
    "for i in range(len(n)):\n",
    "    if i%2==0:\n",
    "        print(n[i])"
   ]
  },
  {
   "cell_type": "code",
   "execution_count": 55,
   "id": "c0a78395",
   "metadata": {},
   "outputs": [
    {
     "name": "stdout",
     "output_type": "stream",
     "text": [
      "Enter Sale Amount: 459\n",
      "Discount :  137.7\n",
      "Net Pay  :  321.3\n"
     ]
    }
   ],
   "source": [
    "# input sale amount\n",
    "amt = int(input(\"Enter Sale Amount: \"))\n",
    "\n",
    "# checking conditions and calculating discount\n",
    "if(amt>0):\n",
    "    if amt>=500:\n",
    "       disc = amt*0.5\n",
    "    elif amt>=200:\n",
    "        disc=amt*0.3\n",
    "    elif amt>=199:\n",
    "        disc=0.1 * amt\n",
    "    else:\n",
    "         disc=0 * amt\n",
    "\n",
    "    print(\"Discount : \",disc)\n",
    "    print(\"Net Pay  : \",amt-disc)\n",
    "else:\n",
    "    print(\"Invalid Amount\")\n"
   ]
  }
 ],
 "metadata": {
  "kernelspec": {
   "display_name": "Python 3 (ipykernel)",
   "language": "python",
   "name": "python3"
  },
  "language_info": {
   "codemirror_mode": {
    "name": "ipython",
    "version": 3
   },
   "file_extension": ".py",
   "mimetype": "text/x-python",
   "name": "python",
   "nbconvert_exporter": "python",
   "pygments_lexer": "ipython3",
   "version": "3.9.7"
  }
 },
 "nbformat": 4,
 "nbformat_minor": 5
}
