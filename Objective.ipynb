{
 "cells": [
  {
   "cell_type": "code",
   "execution_count": 4,
   "id": "c2b57b3d",
   "metadata": {},
   "outputs": [
    {
     "name": "stdout",
     "output_type": "stream",
     "text": [
      "(1, 2, 3)\n"
     ]
    }
   ],
   "source": [
    "class Point3D(object):\n",
    "    def __init__(self, x, y, z):\n",
    "        self.x = x\n",
    "        self.y = y\n",
    "        self.z = z\n",
    "    def __repr__(self):\n",
    "        return \"(%d, %d, %d)\" % (self.x, self.y, self.z)\n",
    "        \n",
    "my_point = Point3D(1,2,3)\n",
    "\n",
    "print (my_point)"
   ]
  },
  {
   "cell_type": "code",
   "execution_count": 8,
   "id": "00433fd7",
   "metadata": {},
   "outputs": [
    {
     "name": "stdout",
     "output_type": "stream",
     "text": [
      "Please Enter the Length of the Rectangle: 3\n",
      "Please Enter the Width of the Rectangle: 4\n",
      "Area of Rectangle object = 12.00\n",
      "Perimeter of Rectangle object= 14.00\n"
     ]
    }
   ],
   "source": [
    "class Rectangle:\n",
    "              \n",
    "    # define a constructor\n",
    "\n",
    "    def __init__(self, length, width):\n",
    "         self.length = length\n",
    "         self.width = width\n",
    "           \n",
    "    # define an instance  method to calculate area of rectangle\n",
    "    def compute_area(self):\n",
    "        return self.length * self.width\n",
    "    \n",
    "    # define an instance  method to calculate perimeter of rectangle\n",
    "    def compute_perimeter(self):\n",
    "        return 2 * (self.length+self.width)\n",
    "\n",
    "# end of the class\n",
    "\n",
    "# get input from the user\n",
    "\n",
    "l= float(input('Please Enter the Length of the Rectangle: '))\n",
    "w= float(input('Please Enter the Width of the Rectangle: '))\n",
    "    \n",
    "# create first object\n",
    "\n",
    "object1 = Rectangle(l,w)\n",
    "# call methods of rectangle\n",
    "\n",
    "area = object1.compute_area()\n",
    "perimeter = object1.compute_perimeter()\n",
    "\n",
    "# print area and perimeter of the rectangle object\n",
    "print(\"Area of Rectangle object = %.2f\" %area)\n",
    "print(\"Perimeter of Rectangle object= %.2f\" %perimeter)"
   ]
  },
  {
   "cell_type": "code",
   "execution_count": 9,
   "id": "23a19807",
   "metadata": {},
   "outputs": [
    {
     "name": "stdout",
     "output_type": "stream",
     "text": [
      "200.96\n",
      "50.24\n"
     ]
    }
   ],
   "source": [
    "class Circle():\n",
    "    def __init__(self, r):\n",
    "        self.radius = r\n",
    "\n",
    "    def area(self):\n",
    "        return self.radius**2*3.14\n",
    "    \n",
    "    def perimeter(self):\n",
    "        return 2*self.radius*3.14\n",
    "\n",
    "NewCircle = Circle(8)\n",
    "print(NewCircle.area())\n",
    "print(NewCircle.perimeter())\n"
   ]
  },
  {
   "cell_type": "code",
   "execution_count": 15,
   "id": "9e169fab",
   "metadata": {},
   "outputs": [
    {
     "name": "stdout",
     "output_type": "stream",
     "text": [
      "Hello!!! Welcome to the Deposit & Withdrawal Machine\n",
      "Enter amount to be Deposited: 100000\n",
      "\n",
      " Amount Deposited: 100000.0\n",
      "Enter amount to be Withdrawn: 45000\n",
      "\n",
      " You Withdrew: 45000.0\n",
      "\n",
      " Net Available Balance= 55000.0\n"
     ]
    }
   ],
   "source": [
    "# Python program to create Bankaccount class\n",
    "# with both a deposit() and a withdraw() function\n",
    "class Bank_Account:\n",
    "\tdef __init__(self):\n",
    "\t\tself.balance=0\n",
    "\t\tprint(\"Hello!!! Welcome to the Deposit & Withdrawal Machine\")\n",
    "\n",
    "\tdef deposit(self):\n",
    "\t\tamount=float(input(\"Enter amount to be Deposited: \"))\n",
    "\t\tself.balance += amount\n",
    "\t\tprint(\"\\n Amount Deposited:\",amount)\n",
    "\n",
    "\tdef withdraw(self):\n",
    "\t\tamount = float(input(\"Enter amount to be Withdrawn: \"))\n",
    "\t\tif self.balance>=amount:\n",
    "\t\t\tself.balance-=amount\n",
    "\t\t\tprint(\"\\n You Withdrew:\", amount)\n",
    "\t\telse:\n",
    "\t\t\tprint(\"\\n Insufficient balance \")\n",
    "\n",
    "\tdef display(self):\n",
    "\t\tprint(\"\\n Net Available Balance=\",self.balance)\n",
    "\n",
    "# Driver code\n",
    "\n",
    "# creating an object of class\n",
    "s = Bank_Account()\n",
    "\n",
    "# Calling functions with that class object\n",
    "s.deposit()\n",
    "s.withdraw()\n",
    "s.display()\n"
   ]
  },
  {
   "cell_type": "code",
   "execution_count": null,
   "id": "12f2141b",
   "metadata": {},
   "outputs": [],
   "source": []
  }
 ],
 "metadata": {
  "kernelspec": {
   "display_name": "Python 3 (ipykernel)",
   "language": "python",
   "name": "python3"
  },
  "language_info": {
   "codemirror_mode": {
    "name": "ipython",
    "version": 3
   },
   "file_extension": ".py",
   "mimetype": "text/x-python",
   "name": "python",
   "nbconvert_exporter": "python",
   "pygments_lexer": "ipython3",
   "version": "3.9.7"
  }
 },
 "nbformat": 4,
 "nbformat_minor": 5
}
