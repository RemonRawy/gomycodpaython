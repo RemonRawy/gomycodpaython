{
 "cells": [
  {
   "cell_type": "code",
   "execution_count": 10,
   "id": "95a495e4",
   "metadata": {},
   "outputs": [
    {
     "name": "stdout",
     "output_type": "stream",
     "text": [
      "Enter First number20\n",
      "Enter Second number35\n",
      "Enter Third number19\n",
      "Maximum Number is ::> 35\n"
     ]
    }
   ],
   "source": [
    "#Question 1\n",
    "def maximum(a, b, c): \n",
    "   list = [a, b, c] \n",
    "   return max(list) \n",
    "# Driven code  \n",
    "x = int(input(\"Enter First number\"))\n",
    "y = int(input(\"Enter Second number\"))\n",
    "z = int(input(\"Enter Third number\"))\n",
    "print(\"Maximum Number is ::>\",maximum(x, y, z))"
   ]
  },
  {
   "cell_type": "code",
   "execution_count": 15,
   "id": "5ad1f957",
   "metadata": {},
   "outputs": [
    {
     "name": "stdout",
     "output_type": "stream",
     "text": [
      "50 30\n"
     ]
    }
   ],
   "source": [
    "#Question 2\n",
    "def calculation(a, b):\n",
    "    return a + b, a - b\n",
    "\n",
    "# get result in tuple format\n",
    "# unpack tuple\n",
    "add, sub = calculation(40, 10)\n",
    "print(add, sub)"
   ]
  },
  {
   "cell_type": "code",
   "execution_count": 1,
   "id": "53c769e3",
   "metadata": {},
   "outputs": [
    {
     "name": "stdout",
     "output_type": "stream",
     "text": [
      "16\n",
      "21\n"
     ]
    }
   ],
   "source": [
    "#Question 3\n",
    "def operation(x,y,z):\n",
    "      print((x+y)*z)\n",
    "operation(5,3,2)\n",
    "operation(5,2,3)"
   ]
  },
  {
   "cell_type": "code",
   "execution_count": 3,
   "id": "c53ff4e2",
   "metadata": {},
   "outputs": [
    {
     "name": "stdout",
     "output_type": "stream",
     "text": [
      "120\n"
     ]
    }
   ],
   "source": [
    "import numpy \n",
    "list1 = [1,2,3,4,5]\n",
    "result = numpy.prod(list1)\n",
    "print(result)"
   ]
  },
  {
   "cell_type": "code",
   "execution_count": 5,
   "id": "d99f5e2d",
   "metadata": {},
   "outputs": [
    {
     "name": "stdout",
     "output_type": "stream",
     "text": [
      "green-red-yellow-black-white\n",
      "black-green-red-white-yellow\n"
     ]
    }
   ],
   "source": [
    "items=[n for n in input().split('-')]\n",
    "items.sort()\n",
    "print('-'.join(items))"
   ]
  },
  {
   "cell_type": "code",
   "execution_count": 6,
   "id": "795a28a2",
   "metadata": {},
   "outputs": [
    {
     "name": "stdout",
     "output_type": "stream",
     "text": [
      "Provide D: 100\n",
      "[18]\n"
     ]
    }
   ],
   "source": [
    "import math\n",
    "\n",
    "numbers = input(\"Provide D: \")\n",
    "numbers = numbers.split(',')\n",
    "\n",
    "result_list = []\n",
    "for D in numbers:\n",
    "    Q = round(math.sqrt(2 * 50 * int(D) / 30))\n",
    "    result_list.append(Q)\n",
    "\n",
    "print(result_list)"
   ]
  },
  {
   "cell_type": "code",
   "execution_count": null,
   "id": "4338a466",
   "metadata": {},
   "outputs": [],
   "source": []
  }
 ],
 "metadata": {
  "kernelspec": {
   "display_name": "Python 3 (ipykernel)",
   "language": "python",
   "name": "python3"
  },
  "language_info": {
   "codemirror_mode": {
    "name": "ipython",
    "version": 3
   },
   "file_extension": ".py",
   "mimetype": "text/x-python",
   "name": "python",
   "nbconvert_exporter": "python",
   "pygments_lexer": "ipython3",
   "version": "3.9.7"
  }
 },
 "nbformat": 4,
 "nbformat_minor": 5
}
