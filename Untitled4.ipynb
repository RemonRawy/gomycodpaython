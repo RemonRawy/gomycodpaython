{
 "cells": [
  {
   "cell_type": "code",
   "execution_count": 1,
   "id": "42ceb2f9",
   "metadata": {},
   "outputs": [
    {
     "name": "stdout",
     "output_type": "stream",
     "text": [
      "Original array: array('i', [1, 3, 5, 3, 7, 1, 9, 3])\n",
      "Convert the said array to an ordinary list with the same items:\n",
      "[1, 3, 5, 3, 7, 1, 9, 3]\n"
     ]
    }
   ],
   "source": [
    "from array import *\n",
    "array_num = array('i', [1, 3, 5, 3, 7, 1, 9, 3])\n",
    "print(\"Original array: \"+str(array_num))\n",
    "num_list = array_num.tolist()\n",
    "print(\"Convert the said array to an ordinary list with the same items:\")\n",
    "print(num_list)\n"
   ]
  },
  {
   "cell_type": "code",
   "execution_count": 2,
   "id": "e9bb4d57",
   "metadata": {},
   "outputs": [
    {
     "name": "stdout",
     "output_type": "stream",
     "text": [
      "Original matrix:\n",
      "[[0 1 2]\n",
      " [3 4 5]]\n",
      "Condition number of the said matrix:\n",
      "4\n"
     ]
    }
   ],
   "source": [
    "import numpy as np\n",
    "m = np.arange(6).reshape(2,3)\n",
    "print(\"Original matrix:\")\n",
    "print(m)\n",
    "result =  np.trace(m)\n",
    "print(\"Condition number of the said matrix:\")\n",
    "print(result)\n"
   ]
  },
  {
   "cell_type": "code",
   "execution_count": 4,
   "id": "a30ff54b",
   "metadata": {},
   "outputs": [
    {
     "name": "stdout",
     "output_type": "stream",
     "text": [
      "Given Array:\n",
      " [[ 1  2  3  4  5]\n",
      " [10 -3 30  4  5]\n",
      " [ 3  2  5 -4  5]\n",
      " [ 9  7  3  6  5]]\n",
      "Result:\n",
      " (array([1, 3], dtype=int64),)\n"
     ]
    }
   ],
   "source": [
    "# importing library\n",
    "import numpy\n",
    "\n",
    "# create numpy array\n",
    "arr = numpy.array([[1, 2, 3, 4, 5],\n",
    "\t\t\t\t[10, -3, 30, 4, 5],\n",
    "\t\t\t\t[3, 2, 5, -4, 5],\n",
    "\t\t\t\t[9, 7, 3, 6, 5]\n",
    "\t\t\t\t])\n",
    "\n",
    "# declare specified value\n",
    "X = 6\n",
    "\n",
    "# view array\n",
    "print(\"Given Array:\\n\", arr)\n",
    "\n",
    "# finding out the row numbers\n",
    "output = numpy.where(numpy.any(arr > X,\n",
    "\t\t\t\t\t\t\t\taxis = 1))\n",
    "\n",
    "# view output\n",
    "print(\"Result:\\n\", output)\n"
   ]
  },
  {
   "cell_type": "code",
   "execution_count": 5,
   "id": "3b479273",
   "metadata": {},
   "outputs": [
    {
     "name": "stdout",
     "output_type": "stream",
     "text": [
      "Original matrix:\n",
      "\n",
      "[[0.75841953 0.78662616 0.1610985  0.51703361 0.10243158 0.98884744\n",
      "  0.61670635 0.74688877 0.2069263  0.33549281]\n",
      " [0.8292795  0.30728846 0.9688321  0.9739491  0.26340125 0.13069067\n",
      "  0.66056076 0.35373046 0.55642043 0.36040799]\n",
      " [0.01176484 0.97680833 0.96908797 0.4003124  0.30012797 0.34293796\n",
      "  0.01622762 0.51984521 0.59450238 0.74440723]\n",
      " [0.5221379  0.82013914 0.52042715 0.81806754 0.47829597 0.67985725\n",
      "  0.95949363 0.10051635 0.26997003 0.22814903]\n",
      " [0.75388836 0.88856018 0.9257861  0.08043156 0.01458599 0.98081445\n",
      "  0.39964047 0.19241688 0.13017974 0.41142915]]\n",
      "\n",
      "Subtract the mean of each row of the said matrix:\n",
      "\n",
      "[[ 0.23637243  0.26457905 -0.36094861 -0.00501349 -0.41961553  0.46680033\n",
      "   0.09465924  0.22484167 -0.31512081 -0.18655429]\n",
      " [ 0.28882343 -0.23316761  0.42837603  0.43349303 -0.27705482 -0.4097654\n",
      "   0.12010469 -0.18672561  0.01596436 -0.18004808]\n",
      " [-0.47583735  0.48920614  0.48148578 -0.08728979 -0.18747422 -0.14466423\n",
      "  -0.47137457  0.03224302  0.10690019  0.25680504]\n",
      " [-0.0175675   0.28043375 -0.01927825  0.27836214 -0.06140943  0.14015185\n",
      "   0.41978823 -0.43918905 -0.26973537 -0.31155637]\n",
      " [ 0.27611507  0.41078689  0.44801282 -0.39734173 -0.4631873   0.50304117\n",
      "  -0.07813282 -0.28535641 -0.34759355 -0.06634414]]\n"
     ]
    }
   ],
   "source": [
    "import numpy as np\n",
    "print(\"Original matrix:\\n\")\n",
    "X = np.random.rand(5, 10)\n",
    "print(X)\n",
    "print(\"\\nSubtract the mean of each row of the said matrix:\\n\")\n",
    "Y = X - X.mean(axis=1, keepdims=True)\n",
    "print(Y)\n"
   ]
  },
  {
   "cell_type": "code",
   "execution_count": null,
   "id": "b643508f",
   "metadata": {},
   "outputs": [],
   "source": []
  }
 ],
 "metadata": {
  "kernelspec": {
   "display_name": "Python 3 (ipykernel)",
   "language": "python",
   "name": "python3"
  },
  "language_info": {
   "codemirror_mode": {
    "name": "ipython",
    "version": 3
   },
   "file_extension": ".py",
   "mimetype": "text/x-python",
   "name": "python",
   "nbconvert_exporter": "python",
   "pygments_lexer": "ipython3",
   "version": "3.9.7"
  }
 },
 "nbformat": 4,
 "nbformat_minor": 5
}
