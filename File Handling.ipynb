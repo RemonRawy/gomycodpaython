{
 "cells": [
  {
   "cell_type": "code",
   "execution_count": 19,
   "id": "53ed1abf",
   "metadata": {},
   "outputs": [
    {
     "data": {
      "text/plain": [
       "'m'"
      ]
     },
     "execution_count": 19,
     "metadata": {},
     "output_type": "execute_result"
    }
   ],
   "source": [
    "f = open(\"C:/Users/Admin/Desktop/python.txt\")\n",
    "f.read(1)"
   ]
  },
  {
   "cell_type": "code",
   "execution_count": 24,
   "id": "b46138a5",
   "metadata": {},
   "outputs": [
    {
     "name": "stdout",
     "output_type": "stream",
     "text": [
      "my first file\n",
      "\n"
     ]
    }
   ],
   "source": [
    "f = open(\"C:/Users/Admin/Desktop/python.txt\")\n",
    "\n",
    "print(f.readline())\n",
    "for line in f:\n",
    "       print(line, end = '')\n",
    "        \n",
    "        \n",
    "        "
   ]
  },
  {
   "cell_type": "code",
   "execution_count": 26,
   "id": "e07d4f53",
   "metadata": {},
   "outputs": [
    {
     "name": "stdout",
     "output_type": "stream",
     "text": [
      "my first file\n",
      "This file\n",
      "\n",
      "contains three lines\n"
     ]
    }
   ],
   "source": [
    "f = open(\"C:/Users/Admin/Desktop/python.txt\")\n",
    "\n",
    "for line in f:\n",
    "       print(line, end = '')"
   ]
  },
  {
   "cell_type": "code",
   "execution_count": 47,
   "id": "bc689fec",
   "metadata": {},
   "outputs": [
    {
     "name": "stdout",
     "output_type": "stream",
     "text": [
      "['contains three lines\\n']\n"
     ]
    }
   ],
   "source": [
    "f = open(\"C:/Users/Admin/Desktop/python.txt\")\n",
    "lines = f.readlines()\n",
    "last_lines = lines[-1:]\n",
    "print(last_lines)"
   ]
  },
  {
   "cell_type": "code",
   "execution_count": null,
   "id": "5f5aee91",
   "metadata": {},
   "outputs": [],
   "source": []
  }
 ],
 "metadata": {
  "kernelspec": {
   "display_name": "Python 3 (ipykernel)",
   "language": "python",
   "name": "python3"
  },
  "language_info": {
   "codemirror_mode": {
    "name": "ipython",
    "version": 3
   },
   "file_extension": ".py",
   "mimetype": "text/x-python",
   "name": "python",
   "nbconvert_exporter": "python",
   "pygments_lexer": "ipython3",
   "version": "3.9.7"
  }
 },
 "nbformat": 4,
 "nbformat_minor": 5
}
